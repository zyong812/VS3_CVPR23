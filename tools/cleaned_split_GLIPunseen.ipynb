{
 "cells": [
  {
   "cell_type": "markdown",
   "metadata": {
    "pycharm": {
     "name": "#%% md\n"
    }
   },
   "source": [
    "## GLIP dataset"
   ]
  },
  {
   "cell_type": "code",
   "execution_count": null,
   "metadata": {
    "collapsed": false,
    "pycharm": {
     "name": "#%%\n"
    }
   },
   "outputs": [],
   "source": [
    "import json\n",
    "import numpy as np"
   ]
  },
  {
   "cell_type": "code",
   "execution_count": null,
   "metadata": {
    "collapsed": false,
    "pycharm": {
     "name": "#%%\n"
    }
   },
   "outputs": [],
   "source": [
    "with open('DATASET/mdetr_annotations/final_mixed_train_no_coco.json', 'r') as fin: # please refer to https://github.com/microsoft/GLIP for downloading\n",
    "    res = json.load(fin)\n",
    "print(res.keys())"
   ]
  },
  {
   "cell_type": "code",
   "execution_count": null,
   "metadata": {
    "collapsed": false,
    "pycharm": {
     "name": "#%%\n"
    }
   },
   "outputs": [],
   "source": [
    "GLIP_pretraining_vg_images = set([x['file_name'] for x in res['images'] if x['data_source'] == 'vg'])\n",
    "print(list(GLIP_pretraining_vg_images)[0])\n",
    "print(len(GLIP_pretraining_vg_images))"
   ]
  },
  {
   "cell_type": "markdown",
   "metadata": {
    "collapsed": false,
    "pycharm": {
     "name": "#%% md\n"
    }
   },
   "source": [
    "## VG150 dataset"
   ]
  },
  {
   "cell_type": "code",
   "execution_count": null,
   "metadata": {
    "collapsed": false,
    "pycharm": {
     "name": "#%%\n"
    }
   },
   "outputs": [],
   "source": [
    "import h5py\n",
    "\n",
    "def load_image_filenames(image_file):\n",
    "    with open(image_file, 'r') as f:\n",
    "        im_data = json.load(f)\n",
    "\n",
    "    corrupted_ims = ['1592.jpg', '1722.jpg', '4616.jpg', '4617.jpg']\n",
    "    fns = []\n",
    "    img_info = []\n",
    "    for i, img in enumerate(im_data):\n",
    "        basename = '{}.jpg'.format(img['image_id'])\n",
    "        if basename in corrupted_ims:\n",
    "            continue\n",
    "\n",
    "        fns.append(basename)\n",
    "        img_info.append(img)\n",
    "    assert len(fns) == 108073\n",
    "    assert len(img_info) == 108073\n",
    "    return fns, img_info\n",
    "\n",
    "fns, img_info = load_image_filenames(\"DATASET/VG150/image_data.json\")\n",
    "print(img_info[0])"
   ]
  },
  {
   "cell_type": "code",
   "execution_count": null,
   "metadata": {
    "collapsed": false,
    "pycharm": {
     "name": "#%%\n"
    }
   },
   "outputs": [],
   "source": [
    "roidb_file = \"DATASET/VG150/VG-SGG-with-attri.h5\"\n",
    "roi_h5 = h5py.File(roidb_file, 'a')\n",
    "print(roi_h5.keys())\n",
    "\n",
    "data_split = roi_h5['split'][:]\n",
    "print((data_split == 2).sum()) # test split\n",
    "print((data_split == 0).sum()) # train split"
   ]
  },
  {
   "cell_type": "code",
   "execution_count": null,
   "metadata": {
    "collapsed": false,
    "pycharm": {
     "name": "#%%\n"
    }
   },
   "outputs": [],
   "source": [
    "split_GLIPunseen = np.zeros_like(data_split) # no GLIP training samples in test split\n",
    "\n",
    "test_image_ids = set()\n",
    "for ind, (info, split) in enumerate(zip(img_info, data_split)):\n",
    "    if split == 2:\n",
    "        img_id = info['url'].split('/')[-1].strip()\n",
    "        test_image_ids.add(img_id)\n",
    "        if img_id not in GLIP_pretraining_vg_images:\n",
    "            split_GLIPunseen[ind] = 2 # unseen in GLIP training, as test\n",
    "        else:\n",
    "            split_GLIPunseen[ind] = -2 # seen in GLIP training\n",
    "\n",
    "print(len(test_image_ids))"
   ]
  },
  {
   "cell_type": "code",
   "execution_count": null,
   "metadata": {
    "collapsed": false,
    "pycharm": {
     "is_executing": true,
     "name": "#%%\n"
    }
   },
   "outputs": [],
   "source": [
    "vg_test_GLIP_unseen = (test_image_ids - GLIP_pretraining_vg_images)\n",
    "\n",
    "assert (split_GLIPunseen == 2).sum() == len(vg_test_GLIP_unseen)\n",
    "print(len(vg_test_GLIP_unseen))\n",
    "\n",
    "if 'split_GLIPunseen' not in list(roi_h5.keys()):\n",
    "    roi_h5['split_GLIPunseen'] = split_GLIPunseen\n",
    "roi_h5.close()\n",
    "\n",
    "# import h5py\n",
    "# test = h5py.File('test.h5', 'a')\n",
    "# test = h5py.File('test.h5', 'w')\n",
    "# test['split_GLIPunseen'] = split_GLIPunseen\n",
    "# test.close()\n",
    "\n",
    "# test = h5py.File('test.h5', 'r')\n",
    "# test['split_GLIPunseen']\n",
    "# (test['split_GLIPunseen'][:] == 2).sum()\n"
   ]
  }
 ],
 "metadata": {
  "kernelspec": {
   "display_name": "Python 3.7.3 64-bit",
   "language": "python",
   "name": "python3"
  },
  "language_info": {
   "codemirror_mode": {
    "name": "ipython",
    "version": 3
   },
   "file_extension": ".py",
   "mimetype": "text/x-python",
   "name": "python",
   "nbconvert_exporter": "python",
   "pygments_lexer": "ipython3",
   "version": "3.7.3"
  },
  "vscode": {
   "interpreter": {
    "hash": "df955ce39d0f31d56d4bb2fe0a613e5326ba60723fd33d8303a3aede8f65715c"
   }
  }
 },
 "nbformat": 4,
 "nbformat_minor": 0
}
