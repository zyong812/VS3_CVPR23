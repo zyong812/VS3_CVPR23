{
 "cells": [
  {
   "cell_type": "code",
   "execution_count": null,
   "metadata": {
    "collapsed": true,
    "pycharm": {
     "name": "#%%\n"
    }
   },
   "outputs": [],
   "source": [
    "import json\n",
    "\n",
    "gpu_size = 10"
   ]
  },
  {
   "cell_type": "markdown",
   "metadata": {
    "collapsed": false,
    "pycharm": {
     "name": "#%% md\n"
    }
   },
   "source": [
    "## 1. merge COCO V1"
   ]
  },
  {
   "cell_type": "code",
   "execution_count": null,
   "metadata": {
    "collapsed": false,
    "pycharm": {
     "name": "#%%\n"
    }
   },
   "outputs": [],
   "source": [
    "# merge results from mutliple GPU run\n",
    "all_results = {}\n",
    "processed_coco_caption_file = '../../DATASET/VG150/weak_supervisions/coco_caption_with_parsed_graph_grounding=glipL.json'\n",
    "for i in range(gpu_size):\n",
    "    part_res_file = f\"{processed_coco_caption_file.replace('.json', '')}_{gpu_size}-{i}.json\"\n",
    "    with open(part_res_file, 'r') as fin:\n",
    "        res = json.load(fin)\n",
    "\n",
    "    print(f'merge from {part_res_file}:')\n",
    "    print(f\"\\tall_sg_box_count={res['sg_grounding_infos']['all_sg_box_count']}\")\n",
    "    print(f\"\\tgrounded_sg_box_count={res['sg_grounding_infos']['grounded_sg_box_count']}\")\n",
    "    print(f\"\\tgrounded_img_count={len(res['sg_grounding_infos']['grounded_img_ids'])}\")\n",
    "\n",
    "    if len(all_results) == 0:\n",
    "        print(len(all_results))\n",
    "        all_results = res.copy()\n",
    "    else:\n",
    "        for img_id, caption_info in res['img_captions_with_parsed_graph'].items():\n",
    "            if img_id in res[\"sg_grounding_infos\"][\"grounded_img_ids\"]:\n",
    "                all_results['img_captions_with_parsed_graph'][img_id] = caption_info\n",
    "\n",
    "        all_results['sg_grounding_infos']['all_sg_box_count'] += res['sg_grounding_infos']['all_sg_box_count']\n",
    "        all_results['sg_grounding_infos']['grounded_sg_box_count'] += res['sg_grounding_infos']['grounded_sg_box_count']\n",
    "        all_results['sg_grounding_infos']['grounded_img_ids'] += res['sg_grounding_infos']['grounded_img_ids']\n",
    "        # print(all_results['sg_grounding_infos'])\n",
    "\n",
    "sg_grounding_infos = all_results['sg_grounding_infos']\n",
    "print(f\"\\nall_sg_box_count={sg_grounding_infos['all_sg_box_count']}\")\n",
    "print(f\"grounded_sg_box_count={sg_grounding_infos['grounded_sg_box_count']}\")\n",
    "print(f\"grounded_img_count={len(set(sg_grounding_infos['grounded_img_ids']))}\")"
   ]
  },
  {
   "cell_type": "code",
   "execution_count": null,
   "metadata": {
    "collapsed": false,
    "pycharm": {
     "name": "#%%\n"
    }
   },
   "outputs": [],
   "source": [
    "save_file = processed_coco_caption_file = '../../DATASET/VG150/weak_supervisions/merged_coco_caption_with_parsed_graph_grounding=glipL.json'\n",
    "with open(save_file, 'w', encoding='utf-8') as fout:\n",
    "    json.dump(all_results, fout, ensure_ascii=False, indent=4)"
   ]
  },
  {
   "cell_type": "markdown",
   "metadata": {
    "collapsed": false,
    "pycharm": {
     "name": "#%% md\n"
    }
   },
   "source": [
    "## 2. merge VG caption grounding results multi GPUs"
   ]
  },
  {
   "cell_type": "code",
   "execution_count": null,
   "metadata": {
    "collapsed": false,
    "pycharm": {
     "name": "#%%\n"
    }
   },
   "outputs": [],
   "source": [
    "# merge results from mutliple GPU run\n",
    "all_results = {}\n",
    "merge_save_file = \"/data/XXX/data/SceneGraphs/VG_raw/weak_supervisions/vgcaption_parse/language_supervised-vg150train.json\"\n",
    "for i in range(gpu_size):\n",
    "    part_res_file = f\"{merge_save_file.replace('.json', '')}_{gpu_size}-{i}.json\"\n",
    "    with open(part_res_file, 'r') as fin:\n",
    "        res = json.load(fin)\n",
    "\n",
    "    print(f'merge from {part_res_file}:')\n",
    "    print(f\"\\tall_sg_box_count={res['sg_grounding_infos']['all_sg_box_count']}\")\n",
    "    print(f\"\\tgrounded_sg_box_count={res['sg_grounding_infos']['grounded_sg_box_count']}\")\n",
    "    print(f\"\\tgrounded_img_count={len(res['sg_grounding_infos']['grounded_img_ids'])}\")\n",
    "\n",
    "    if len(all_results) == 0:\n",
    "        print(len(all_results))\n",
    "        all_results = res.copy()\n",
    "    else:\n",
    "        for img_id, caption_info in res['text_scene_graph'].items():\n",
    "            if img_id in res[\"sg_grounding_infos\"][\"grounded_img_ids\"]:\n",
    "                all_results['text_scene_graph'][img_id] = caption_info\n",
    "\n",
    "        all_results['sg_grounding_infos']['all_sg_box_count'] += res['sg_grounding_infos']['all_sg_box_count']\n",
    "        all_results['sg_grounding_infos']['grounded_sg_box_count'] += res['sg_grounding_infos']['grounded_sg_box_count']\n",
    "        all_results['sg_grounding_infos']['grounded_img_ids'] += res['sg_grounding_infos']['grounded_img_ids']\n",
    "        # print(all_results['sg_grounding_infos'])\n",
    "\n",
    "sg_grounding_infos = all_results['sg_grounding_infos']\n",
    "print(f\"\\nall_sg_box_count={sg_grounding_infos['all_sg_box_count']}\")\n",
    "print(f\"grounded_sg_box_count={sg_grounding_infos['grounded_sg_box_count']}\")\n",
    "print(f\"grounded_img_count={len(set(sg_grounding_infos['grounded_img_ids']))}\")"
   ]
  },
  {
   "cell_type": "code",
   "execution_count": null,
   "metadata": {
    "collapsed": false,
    "pycharm": {
     "name": "#%%\n"
    }
   },
   "outputs": [],
   "source": [
    "with open(merge_save_file, 'w', encoding='utf-8') as fout:\n",
    "    json.dump(all_results, fout, ensure_ascii=False, indent=4)"
   ]
  },
  {
   "cell_type": "markdown",
   "metadata": {
    "collapsed": false,
    "pycharm": {
     "name": "#%% md\n"
    }
   },
   "source": [
    "## 3. Merge COCO V2 (triplets from all captions)"
   ]
  },
  {
   "cell_type": "code",
   "execution_count": null,
   "metadata": {
    "collapsed": false,
    "pycharm": {
     "name": "#%%\n"
    }
   },
   "outputs": [],
   "source": [
    "# merge results from mutliple GPU run\n",
    "all_results = {}\n",
    "merge_save_file = \"/data/XXX/data/SceneGraphs/VG_raw/weak_supervisions/language_supervised-coco_caption-grounding=glipL-java.json\"\n",
    "for i in range(gpu_size):\n",
    "    part_res_file = f\"{merge_save_file.replace('.json', '')}_{gpu_size}-{i}.json\"\n",
    "    with open(part_res_file, 'r') as fin:\n",
    "        res = json.load(fin)\n",
    "\n",
    "    print(f'merge from {part_res_file}:')\n",
    "    print(f\"\\tall_sg_box_count={res['sg_grounding_infos']['all_sg_box_count']}\")\n",
    "    print(f\"\\tgrounded_sg_box_count={res['sg_grounding_infos']['grounded_sg_box_count']}\")\n",
    "    print(f\"\\tgrounded_img_count={len(res['sg_grounding_infos']['grounded_img_ids'])}\")\n",
    "\n",
    "    if len(all_results) == 0:\n",
    "        print(len(all_results))\n",
    "        all_results = res.copy()\n",
    "    else:\n",
    "        for img_id, caption_info in res['text_scene_graph'].items():\n",
    "            id_type = type(res[\"sg_grounding_infos\"][\"grounded_img_ids\"][0])\n",
    "            if id_type(img_id) in res[\"sg_grounding_infos\"][\"grounded_img_ids\"]:\n",
    "                all_results['text_scene_graph'][img_id] = caption_info\n",
    "\n",
    "        all_results['sg_grounding_infos']['all_sg_box_count'] += res['sg_grounding_infos']['all_sg_box_count']\n",
    "        all_results['sg_grounding_infos']['grounded_sg_box_count'] += res['sg_grounding_infos']['grounded_sg_box_count']\n",
    "        all_results['sg_grounding_infos']['grounded_img_ids'] += res['sg_grounding_infos']['grounded_img_ids']\n",
    "        # print(all_results['sg_grounding_infos'])\n",
    "\n",
    "sg_grounding_infos = all_results['sg_grounding_infos']\n",
    "print(f\"\\nall_sg_box_count={sg_grounding_infos['all_sg_box_count']}\")\n",
    "print(f\"grounded_sg_box_count={sg_grounding_infos['grounded_sg_box_count']}\")\n",
    "print(f\"grounded_img_count={len(set(sg_grounding_infos['grounded_img_ids']))}\")"
   ]
  },
  {
   "cell_type": "code",
   "execution_count": null,
   "metadata": {
    "collapsed": false,
    "pycharm": {
     "name": "#%%\n"
    }
   },
   "outputs": [],
   "source": [
    "save_file_name = \"/data/XXX/data/SceneGraphs/VG_raw/weak_supervisions/language_supervised-coco_caption-grounding=glipL-javaparser.json\"\n",
    "with open(save_file_name, 'w', encoding='utf-8') as fout:\n",
    "    json.dump(all_results, fout, ensure_ascii=False, indent=4)"
   ]
  }
 ],
 "metadata": {
  "kernelspec": {
   "display_name": "Python 3.7.3 64-bit",
   "language": "python",
   "name": "python3"
  },
  "language_info": {
   "codemirror_mode": {
    "name": "ipython",
    "version": 2
   },
   "file_extension": ".py",
   "mimetype": "text/x-python",
   "name": "python",
   "nbconvert_exporter": "python",
   "pygments_lexer": "ipython2",
   "version": "3.7.3"
  },
  "vscode": {
   "interpreter": {
    "hash": "df955ce39d0f31d56d4bb2fe0a613e5326ba60723fd33d8303a3aede8f65715c"
   }
  }
 },
 "nbformat": 4,
 "nbformat_minor": 0
}
